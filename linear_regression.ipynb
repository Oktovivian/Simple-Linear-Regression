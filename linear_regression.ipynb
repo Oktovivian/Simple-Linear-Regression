{
  "nbformat": 4,
  "nbformat_minor": 0,
  "metadata": {
    "colab": {
      "name": "linear_regression.ipynb",
      "provenance": [],
      "collapsed_sections": []
    },
    "kernelspec": {
      "name": "python3",
      "display_name": "Python 3"
    },
    "language_info": {
      "name": "python"
    }
  },
  "cells": [
    {
      "cell_type": "code",
      "execution_count": null,
      "metadata": {
        "colab": {
          "base_uri": "https://localhost:8080/",
          "height": 282
        },
        "id": "lx74nMTCa2M7",
        "outputId": "0db3acfd-c064-4670-ae36-db09e850fb97"
      },
      "outputs": [
        {
          "output_type": "execute_result",
          "data": {
            "text/plain": [
              "<matplotlib.collections.PathCollection at 0x7f7051798cd0>"
            ]
          },
          "metadata": {},
          "execution_count": 1
        },
        {
          "output_type": "display_data",
          "data": {
            "text/plain": [
              "<Figure size 432x288 with 1 Axes>"
            ],
            "image/png": "[encoded data removed]"
          },
          "metadata": {
            "needs_background": "light"
          }
        }
      ],
      "source": [
        "'''\n",
        "# import library\n",
        "import numpy as np\n",
        "import matplotlib.pyplot as plt\n",
        "\n",
        "# data kode hotel berbintang (1 = bintang 1, 4 = bintang 4)\n",
        "bintang = np.array([4,3,2,3,4,5,3,2,5,4,4,3,2,1,4,5,3,2,4,5])\n",
        "\n",
        "# data harga kamar hotel\n",
        "room_price = np.array([450,233,130,270,500,2000,300,124,3500,200,380,470,300,120,350,1000,300,120,760,890])\n",
        "\n",
        "%matplotlib inline\n",
        "# x buat bintang, y buat harga kamar\n",
        "plt.scatter(bintang, room_price)\n",
        "'''"
      ]
    },
    {
      "cell_type": "code",
      "source": [
        "'''\n",
        "# melatih model dengan fungsi fit\n",
        "\n",
        "from sklearn.linear_model import LinearRegression\n",
        "bintang = bintang.reshape(-1, 1)\n",
        "regresilinier = LinearRegression()\n",
        "regresilinier.fit(bintang, room_price)\n",
        "\n",
        "plt.scatter(bintang, room_price)\n",
        "plt.plot(bintang, regresilinier.predict(bintang))\n",
        "'''"
      ],
      "metadata": {
        "colab": {
          "base_uri": "https://localhost:8080/",
          "height": 282
        },
        "id": "rL3vwBXRdrlI",
        "outputId": "81c06f99-355f-4a17-86e2-b0caab53bf80"
      },
      "execution_count": null,
      "outputs": [
        {
          "output_type": "execute_result",
          "data": {
            "text/plain": [
              "[<matplotlib.lines.Line2D at 0x7f703c8fddd0>]"
            ]
          },
          "metadata": {},
          "execution_count": 5
        },
        {
          "output_type": "display_data",
          "data": {
            "text/plain": [
              "<Figure size 432x288 with 1 Axes>"
            ],
            "image/png": "[encoded data removed]"
          },
          "metadata": {
            "needs_background": "light"
          }
        }
      ]
    },
    {
      "cell_type": "code",
      "source": [
        "# import modul\n",
        "import pandas as pd\n",
        "\n",
        "# dictionary dengan 2 key dengan masing2 value adalah list\n",
        "hotel = {'bintang' : [4,3,2,3,4,5,3,2,5,4,4,3,2,1,4,5,3,2,4,5],\n",
        "         'harga' : [450,233,130,270,500,2000,300,124,1500,200,380,470,300,120,350,1000,300,120,760,890]}\n",
        "\n",
        "# kita bentuk sebagai objek dataframe\n",
        "hotel_df = pd.DataFrame(hotel) # dict hotel sebagai parameter\n",
        "hotel_df\n",
        "\n",
        "# kita akan membentuk model machine learning dengan bintang sebagai feature dan harga sebagai target"
      ],
      "metadata": {
        "colab": {
          "base_uri": "https://localhost:8080/",
          "height": 676
        },
        "id": "oLZNMkXmgq4J",
        "outputId": "af087777-38fb-4b15-d4d0-dd80027ad59e"
      },
      "execution_count": 36,
      "outputs": [
        {
          "output_type": "execute_result",
          "data": {
            "text/plain": [
              "    bintang  harga\n",
              "0         4    450\n",
              "1         3    233\n",
              "2         2    130\n",
              "3         3    270\n",
              "4         4    500\n",
              "5         5   2000\n",
              "6         3    300\n",
              "7         2    124\n",
              "8         5   1500\n",
              "9         4    200\n",
              "10        4    380\n",
              "11        3    470\n",
              "12        2    300\n",
              "13        1    120\n",
              "14        4    350\n",
              "15        5   1000\n",
              "16        3    300\n",
              "17        2    120\n",
              "18        4    760\n",
              "19        5    890"
            ],
            "text/html": [
              "\n",
              "  <div id=\"df-94474b7c-d3ca-4131-a123-975833017da6\">\n",
              "    <div class=\"colab-df-container\">\n",
              "      <div>\n",
              "<style scoped>\n",
              "    .dataframe tbody tr th:only-of-type {\n",
              "        vertical-align: middle;\n",
              "    }\n",
              "\n",
              "    .dataframe tbody tr th {\n",
              "        vertical-align: top;\n",
              "    }\n",
              "\n",
              "    .dataframe thead th {\n",
              "        text-align: right;\n",
              "    }\n",
              "</style>\n",
              "<table border=\"1\" class=\"dataframe\">\n",
              "  <thead>\n",
              "    <tr style=\"text-align: right;\">\n",
              "      <th></th>\n",
              "      <th>bintang</th>\n",
              "      <th>harga</th>\n",
              "    </tr>\n",
              "  </thead>\n",
              "  <tbody>\n",
              "    <tr>\n",
              "      <th>0</th>\n",
              "      <td>4</td>\n",
              "      <td>450</td>\n",
              "    </tr>\n",
              "    <tr>\n",
              "      <th>1</th>\n",
              "      <td>3</td>\n",
              "      <td>233</td>\n",
              "    </tr>\n",
              "    <tr>\n",
              "      <th>2</th>\n",
              "      <td>2</td>\n",
              "      <td>130</td>\n",
              "    </tr>\n",
              "    <tr>\n",
              "      <th>3</th>\n",
              "      <td>3</td>\n",
              "      <td>270</td>\n",
              "    </tr>\n",
              "    <tr>\n",
              "      <th>4</th>\n",
              "      <td>4</td>\n",
              "      <td>500</td>\n",
              "    </tr>\n",
              "    <tr>\n",
              "      <th>5</th>\n",
              "      <td>5</td>\n",
              "      <td>2000</td>\n",
              "    </tr>\n",
              "    <tr>\n",
              "      <th>6</th>\n",
              "      <td>3</td>\n",
              "      <td>300</td>\n",
              "    </tr>\n",
              "    <tr>\n",
              "      <th>7</th>\n",
              "      <td>2</td>\n",
              "      <td>124</td>\n",
              "    </tr>\n",
              "    <tr>\n",
              "      <th>8</th>\n",
              "      <td>5</td>\n",
              "      <td>1500</td>\n",
              "    </tr>\n",
              "    <tr>\n",
              "      <th>9</th>\n",
              "      <td>4</td>\n",
              "      <td>200</td>\n",
              "    </tr>\n",
              "    <tr>\n",
              "      <th>10</th>\n",
              "      <td>4</td>\n",
              "      <td>380</td>\n",
              "    </tr>\n",
              "    <tr>\n",
              "      <th>11</th>\n",
              "      <td>3</td>\n",
              "      <td>470</td>\n",
              "    </tr>\n",
              "    <tr>\n",
              "      <th>12</th>\n",
              "      <td>2</td>\n",
              "      <td>300</td>\n",
              "    </tr>\n",
              "    <tr>\n",
              "      <th>13</th>\n",
              "      <td>1</td>\n",
              "      <td>120</td>\n",
              "    </tr>\n",
              "    <tr>\n",
              "      <th>14</th>\n",
              "      <td>4</td>\n",
              "      <td>350</td>\n",
              "    </tr>\n",
              "    <tr>\n",
              "      <th>15</th>\n",
              "      <td>5</td>\n",
              "      <td>1000</td>\n",
              "    </tr>\n",
              "    <tr>\n",
              "      <th>16</th>\n",
              "      <td>3</td>\n",
              "      <td>300</td>\n",
              "    </tr>\n",
              "    <tr>\n",
              "      <th>17</th>\n",
              "      <td>2</td>\n",
              "      <td>120</td>\n",
              "    </tr>\n",
              "    <tr>\n",
              "      <th>18</th>\n",
              "      <td>4</td>\n",
              "      <td>760</td>\n",
              "    </tr>\n",
              "    <tr>\n",
              "      <th>19</th>\n",
              "      <td>5</td>\n",
              "      <td>890</td>\n",
              "    </tr>\n",
              "  </tbody>\n",
              "</table>\n",
              "</div>\n",
              "      <button class=\"colab-df-convert\" onclick=\"convertToInteractive('df-94474b7c-d3ca-4131-a123-975833017da6')\"\n",
              "              title=\"Convert this dataframe to an interactive table.\"\n",
              "              style=\"display:none;\">\n",
              "        \n",
              "  <svg xmlns=\"http://www.w3.org/2000/svg\" height=\"24px\"viewBox=\"0 0 24 24\"\n",
              "       width=\"24px\">\n",
              "    <path d=\"M0 0h24v24H0V0z\" fill=\"none\"/>\n",
              "    <path d=\"M18.56 5.44l.94 2.06.94-2.06 2.06-.94-2.06-.94-.94-2.06-.94 2.06-2.06.94zm-11 1L8.5 8.5l.94-2.06 2.06-.94-2.06-.94L8.5 2.5l-.94 2.06-2.06.94zm10 10l.94 2.06.94-2.06 2.06-.94-2.06-.94-.94-2.06-.94 2.06-2.06.94z\"/><path d=\"M17.41 7.96l-1.37-1.37c-.4-.4-.92-.59-1.43-.59-.52 0-1.04.2-1.43.59L10.3 9.45l-7.72 7.72c-.78.78-.78 2.05 0 2.83L4 21.41c.39.39.9.59 1.41.59.51 0 1.02-.2 1.41-.59l7.78-7.78 2.81-2.81c.8-.78.8-2.07 0-2.86zM5.41 20L4 18.59l7.72-7.72 1.47 1.35L5.41 20z\"/>\n",
              "  </svg>\n",
              "      </button>\n",
              "      \n",
              "  <style>\n",
              "    .colab-df-container {\n",
              "      display:flex;\n",
              "      flex-wrap:wrap;\n",
              "      gap: 12px;\n",
              "    }\n",
              "\n",
              "    .colab-df-convert {\n",
              "      background-color: #E8F0FE;\n",
              "      border: none;\n",
              "      border-radius: 50%;\n",
              "      cursor: pointer;\n",
              "      display: none;\n",
              "      fill: #1967D2;\n",
              "      height: 32px;\n",
              "      padding: 0 0 0 0;\n",
              "      width: 32px;\n",
              "    }\n",
              "\n",
              "    .colab-df-convert:hover {\n",
              "      background-color: #E2EBFA;\n",
              "      box-shadow: 0px 1px 2px rgba(60, 64, 67, 0.3), 0px 1px 3px 1px rgba(60, 64, 67, 0.15);\n",
              "      fill: #174EA6;\n",
              "    }\n",
              "\n",
              "    [theme=dark] .colab-df-convert {\n",
              "      background-color: #3B4455;\n",
              "      fill: #D2E3FC;\n",
              "    }\n",
              "\n",
              "    [theme=dark] .colab-df-convert:hover {\n",
              "      background-color: #434B5C;\n",
              "      box-shadow: 0px 1px 3px 1px rgba(0, 0, 0, 0.15);\n",
              "      filter: drop-shadow(0px 1px 2px rgba(0, 0, 0, 0.3));\n",
              "      fill: #FFFFFF;\n",
              "    }\n",
              "  </style>\n",
              "\n",
              "      <script>\n",
              "        const buttonEl =\n",
              "          document.querySelector('#df-94474b7c-d3ca-4131-a123-975833017da6 button.colab-df-convert');\n",
              "        buttonEl.style.display =\n",
              "          google.colab.kernel.accessAllowed ? 'block' : 'none';\n",
              "\n",
              "        async function convertToInteractive(key) {\n",
              "          const element = document.querySelector('#df-94474b7c-d3ca-4131-a123-975833017da6');\n",
              "          const dataTable =\n",
              "            await google.colab.kernel.invokeFunction('convertToInteractive',\n",
              "                                                     [key], {});\n",
              "          if (!dataTable) return;\n",
              "\n",
              "          const docLinkHtml = 'Like what you see? Visit the ' +\n",
              "            '<a target=\"_blank\" href=https://colab.research.google.com/notebooks/data_table.ipynb>data table notebook</a>'\n",
              "            + ' to learn more about interactive tables.';\n",
              "          element.innerHTML = '';\n",
              "          dataTable['output_type'] = 'display_data';\n",
              "          await google.colab.output.renderOutput(dataTable, element);\n",
              "          const docLink = document.createElement('div');\n",
              "          docLink.innerHTML = docLinkHtml;\n",
              "          element.appendChild(docLink);\n",
              "        }\n",
              "      </script>\n",
              "    </div>\n",
              "  </div>\n",
              "  "
            ]
          },
          "metadata": {},
          "execution_count": 36
        }
      ]
    },
    {
      "cell_type": "code",
      "source": [
        "# Visualisasi Data\n",
        "\n",
        "import matplotlib.pyplot as plt\n",
        "\n",
        "# kind adalah scatter karena plotting kita adalah scatterplot\n",
        "hotel_df.plot(kind='scatter', x='harga', y='bintang')\n",
        "\n",
        "plt.title('Perbandingan Harga Kamar dengan Bintang Hotel')\n",
        "plt.xlabel('harga (ratus ribu rupiah)')\n",
        "plt.ylabel('bintang')\n",
        "plt.xlim(0, 3000) # range 0 - 5 juta\n",
        "plt.ylim(0, 7) # range bintang 0-7\n",
        "plt.grid(True)\n",
        "plt.show() # menampilkan plotting"
      ],
      "metadata": {
        "colab": {
          "base_uri": "https://localhost:8080/",
          "height": 295
        },
        "id": "UGnh5hZGiquT",
        "outputId": "ecb87737-e7ac-41c7-e3ac-dd13d998c505"
      },
      "execution_count": 38,
      "outputs": [
        {
          "output_type": "display_data",
          "data": {
            "text/plain": [
              "<Figure size 432x288 with 1 Axes>"
            ],
            "image/png": "[encoded data removed]"
          },
          "metadata": {
            "needs_background": "light"
          }
        }
      ]
    },
    {
      "cell_type": "code",
      "source": [
        "# penyesuaian dataset\n",
        "\n",
        "import numpy as np\n",
        "\n",
        "# konversi struktur data, dari pandas df menjadi np array\n",
        "x = np.array(hotel_df['harga']) # variabel feature\n",
        "y = np.array(hotel_df['bintang'])   # variabel target\n",
        "\n",
        "print(f'X: {x}')\n",
        "print(f'y: {y}')"
      ],
      "metadata": {
        "colab": {
          "base_uri": "https://localhost:8080/"
        },
        "id": "0xHoCr4LkE0T",
        "outputId": "20b1ead0-7a15-4ab3-c6c6-a89f888b2f4a"
      },
      "execution_count": 39,
      "outputs": [
        {
          "output_type": "stream",
          "name": "stdout",
          "text": [
            "X: [ 450  233  130  270  500 2000  300  124 1500  200  380  470  300  120\n",
            "  350 1000  300  120  760  890]\n",
            "y: [4 3 2 3 4 5 3 2 5 4 4 3 2 1 4 5 3 2 4 5]\n"
          ]
        }
      ]
    },
    {
      "cell_type": "code",
      "source": [
        "# perlu reshaping karena model ml membutuhkan sekumpulan nilai feature yang ditampung dalam array 2D\n",
        "x = x.reshape(-1, 1)\n",
        "x.shape"
      ],
      "metadata": {
        "colab": {
          "base_uri": "https://localhost:8080/"
        },
        "id": "QxtIvRnlkvKF",
        "outputId": "3f3c30db-0317-450f-a353-4083e1385d18"
      },
      "execution_count": 40,
      "outputs": [
        {
          "output_type": "execute_result",
          "data": {
            "text/plain": [
              "(20, 1)"
            ]
          },
          "metadata": {},
          "execution_count": 40
        }
      ]
    },
    {
      "cell_type": "code",
      "source": [
        "# menampung array 2 dimensi\n",
        "x "
      ],
      "metadata": {
        "colab": {
          "base_uri": "https://localhost:8080/"
        },
        "id": "JKY_-IqalGwh",
        "outputId": "6dc6bd33-5709-4723-eeb5-56ff4361be8f"
      },
      "execution_count": 41,
      "outputs": [
        {
          "output_type": "execute_result",
          "data": {
            "text/plain": [
              "array([[ 450],\n",
              "       [ 233],\n",
              "       [ 130],\n",
              "       [ 270],\n",
              "       [ 500],\n",
              "       [2000],\n",
              "       [ 300],\n",
              "       [ 124],\n",
              "       [1500],\n",
              "       [ 200],\n",
              "       [ 380],\n",
              "       [ 470],\n",
              "       [ 300],\n",
              "       [ 120],\n",
              "       [ 350],\n",
              "       [1000],\n",
              "       [ 300],\n",
              "       [ 120],\n",
              "       [ 760],\n",
              "       [ 890]])"
            ]
          },
          "metadata": {},
          "execution_count": 41
        }
      ]
    },
    {
      "cell_type": "code",
      "source": [
        "# Training Simple Linear Regression Model\n",
        "\n",
        "from sklearn.linear_model import LinearRegression\n",
        "\n",
        "model = LinearRegression()\n",
        "\n",
        "# training objek model, butuh 2 parameter, sekumpulan feature dan target\n",
        "model.fit(x, y)"
      ],
      "metadata": {
        "colab": {
          "base_uri": "https://localhost:8080/"
        },
        "id": "V3v9jcE8lRAv",
        "outputId": "72a2fb9f-6a3a-4438-9e92-13ffee0368ba"
      },
      "execution_count": 42,
      "outputs": [
        {
          "output_type": "execute_result",
          "data": {
            "text/plain": [
              "LinearRegression()"
            ]
          },
          "metadata": {},
          "execution_count": 42
        }
      ]
    },
    {
      "cell_type": "code",
      "source": [
        "# visualisasi model\n",
        "x_vis = np.array([0, 7]).reshape(-1, 1) # nilai feature\n",
        "y_vis = model.predict(x_vis) # nilai target"
      ],
      "metadata": {
        "id": "brnG_fMNlwv9"
      },
      "execution_count": 43,
      "outputs": []
    },
    {
      "cell_type": "code",
      "source": [
        "plt.scatter(x, y)\n",
        "\n",
        "# nilai garis merah (belum keluar)\n",
        "plt.plot(x_vis, y_vis, '-r')\n",
        "\n",
        "plt.title('Perbandingan Harga Kamar dengan Bintang Hotel')\n",
        "plt.xlabel('harga (juta)')\n",
        "plt.ylabel('bintang')\n",
        "plt.xlim(0, 2500)\n",
        "plt.ylim(0, 7)\n",
        "plt.grid(True)\n",
        "plt.show()"
      ],
      "metadata": {
        "colab": {
          "base_uri": "https://localhost:8080/",
          "height": 295
        },
        "id": "TIhROmzZmFNP",
        "outputId": "faeabf64-d5b7-43bc-cb75-33128bade9fd"
      },
      "execution_count": 47,
      "outputs": [
        {
          "output_type": "display_data",
          "data": {
            "text/plain": [
              "<Figure size 432x288 with 1 Axes>"
            ],
            "image/png": "[encoded data removed]"
          },
          "metadata": {
            "needs_background": "light"
          }
        }
      ]
    },
    {
      "cell_type": "markdown",
      "source": [
        "Formula Linear Regression : y = alpha + betaX\n",
        "\n",
        "y : response variable\n",
        "x : explanatory variable\n",
        "alpha : intercept\n",
        "beta : slope\n"
      ],
      "metadata": {
        "id": "xDGeGyuzosOd"
      }
    },
    {
      "cell_type": "code",
      "source": [
        "print(f'intercept: {model.intercept_}')\n",
        "print(f'slope: {model.coef_}')"
      ],
      "metadata": {
        "colab": {
          "base_uri": "https://localhost:8080/"
        },
        "id": "6d6A-j8uoroc",
        "outputId": "94124011-7558-4e23-fad9-933005aa13dd"
      },
      "execution_count": 49,
      "outputs": [
        {
          "output_type": "stream",
          "name": "stdout",
          "text": [
            "intercept: 2.4674976732795484\n",
            "slope: [0.00179379]\n"
          ]
        }
      ]
    },
    {
      "cell_type": "code",
      "source": [
        "# Prediksi Bintang Hotel berdasarkan Harga\n",
        "\n",
        "harga_hotel = np.array([600, 1800, 300]).reshape(-1, 1)\n",
        "harga_hotel"
      ],
      "metadata": {
        "colab": {
          "base_uri": "https://localhost:8080/"
        },
        "id": "4Sinr2RrpMbz",
        "outputId": "d2d1fd51-b3ff-4a19-9868-34cd29be6a4b"
      },
      "execution_count": 50,
      "outputs": [
        {
          "output_type": "execute_result",
          "data": {
            "text/plain": [
              "array([[ 600],\n",
              "       [1800],\n",
              "       [ 300]])"
            ]
          },
          "metadata": {},
          "execution_count": 50
        }
      ]
    },
    {
      "cell_type": "code",
      "source": [
        "prediksi_bintang = model.predict(harga_hotel)\n",
        "prediksi_bintang"
      ],
      "metadata": {
        "colab": {
          "base_uri": "https://localhost:8080/"
        },
        "id": "PVXw6n76pZAZ",
        "outputId": "743da2ac-c632-40a5-e6c5-1573a45d3540"
      },
      "execution_count": 51,
      "outputs": [
        {
          "output_type": "execute_result",
          "data": {
            "text/plain": [
              "array([3.54377236, 5.69632173, 3.00563502])"
            ]
          },
          "metadata": {},
          "execution_count": 51
        }
      ]
    },
    {
      "cell_type": "code",
      "source": [
        "for harga, bintang in zip(harga_hotel, prediksi_bintang):\n",
        "  print(f'Harga: {harga} ribu, prediksi bintang: {bintang}')"
      ],
      "metadata": {
        "colab": {
          "base_uri": "https://localhost:8080/"
        },
        "id": "Hq68XIXMpgKM",
        "outputId": "9cf4c073-da4d-47df-8c88-6ca8d7ae110e"
      },
      "execution_count": 53,
      "outputs": [
        {
          "output_type": "stream",
          "name": "stdout",
          "text": [
            "Harga: [600] ribu, prediksi bintang: 3.5437723602705473\n",
            "Harga: [1800] ribu, prediksi bintang: 5.696321734252544\n",
            "Harga: [300] ribu, prediksi bintang: 3.005635016775048\n"
          ]
        }
      ]
    }
  ]
}